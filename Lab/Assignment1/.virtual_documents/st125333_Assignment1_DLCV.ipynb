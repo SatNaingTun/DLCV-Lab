!python --version





import torch
print(torch.version.cuda)
print(torch.cuda.is_available())


!nvidia-smi


from ultralytics import YOLO


image_files = [f"{i}.jpg" for i in range(1, 6)]


modelv8n = YOLO("yolov8n.pt")
results = modelv8n(image_files)


for idx, result in enumerate(results):
    boxes = result.boxes  # Boxes object for bounding box outputs
    masks = result.masks  # Masks object for segmentation masks outputs
    keypoints = result.keypoints  # Keypoints object for pose outputs
    probs = result.probs  # Probs object for classification outputs
    obb = result.obb  # Oriented boxes object for OBB outputs
    result.show()  # display to screen
    result.save(filename=f"outputs/result_v8n_{idx}.jpg")  # save to disk


modelv12n = YOLO("yolo12n.pt")
results = modelv12n(image_files) 


for idx, result in enumerate(results):
    boxes = result.boxes  # Boxes object for bounding box outputs
    masks = result.masks  # Masks object for segmentation masks outputs
    keypoints = result.keypoints  # Keypoints object for pose outputs
    probs = result.probs  # Probs object for classification outputs
    obb = result.obb  # Oriented boxes object for OBB outputs
    result.show()  # display to screen
    result.save(filename=f"outputs/result_v12n_{idx}.jpg")  # save to disk

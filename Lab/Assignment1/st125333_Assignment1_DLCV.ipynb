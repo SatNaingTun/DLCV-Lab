{
 "cells": [
  {
   "cell_type": "code",
   "execution_count": 1,
   "id": "e08a17e8",
   "metadata": {},
   "outputs": [
    {
     "name": "stdout",
     "output_type": "stream",
     "text": [
      "Python 3.12.4\n"
     ]
    }
   ],
   "source": [
    "!python --version"
   ]
  },
  {
   "cell_type": "code",
   "execution_count": 2,
   "id": "1ad3769f-8caa-4de7-aff0-75662aacbb0f",
   "metadata": {},
   "outputs": [
    {
     "name": "stdout",
     "output_type": "stream",
     "text": [
      "C:\\Users\\satna\\miniconda3\\envs\\myConda\\python.exe\n"
     ]
    }
   ],
   "source": [
    "import sys\n",
    "print(sys.executable)"
   ]
  },
  {
   "cell_type": "code",
   "execution_count": 3,
   "id": "ed0515b6",
   "metadata": {},
   "outputs": [
    {
     "name": "stdout",
     "output_type": "stream",
     "text": [
      "12.6\n",
      "False\n"
     ]
    }
   ],
   "source": [
    "import torch\n",
    "print(torch.version.cuda)\n",
    "print(torch.cuda.is_available())"
   ]
  },
  {
   "cell_type": "code",
   "execution_count": 4,
   "id": "74e86006",
   "metadata": {},
   "outputs": [
    {
     "name": "stderr",
     "output_type": "stream",
     "text": [
      "'nvidia-smi' is not recognized as an internal or external command,\n",
      "operable program or batch file.\n"
     ]
    }
   ],
   "source": [
    "!nvidia-smi"
   ]
  },
  {
   "cell_type": "code",
   "execution_count": 7,
   "id": "452cfc82",
   "metadata": {},
   "outputs": [],
   "source": [
    "from ultralytics import YOLO"
   ]
  },
  {
   "cell_type": "code",
   "execution_count": 8,
   "id": "ba262f6b",
   "metadata": {},
   "outputs": [],
   "source": [
    "image_files = [f\"{i}.jpg\" for i in range(1, 6)]"
   ]
  },
  {
   "cell_type": "code",
   "execution_count": 9,
   "id": "140dc447",
   "metadata": {},
   "outputs": [
    {
     "name": "stdout",
     "output_type": "stream",
     "text": [
      "\n",
      "0: 640x640 1 car, 1 airplane, 1 umbrella, 2 kites, 1 cup, 165.1ms\n",
      "1: 640x640 1 car, 1 cow, 1 umbrella, 2 kites, 1 cup, 1 chair, 1 potted plant, 1 vase, 165.1ms\n",
      "2: 640x640 3 persons, 1 tv, 1 cell phone, 165.1ms\n",
      "3: 640x640 4 cups, 1 bowl, 1 banana, 1 clock, 165.1ms\n",
      "4: 640x640 1 bowl, 1 sandwich, 3 oranges, 1 carrot, 1 dining table, 165.1ms\n",
      "Speed: 6.4ms preprocess, 165.1ms inference, 5.1ms postprocess per image at shape (1, 3, 640, 640)\n"
     ]
    }
   ],
   "source": [
    "modelv8n = YOLO(\"yolov8n.pt\")\n",
    "results = modelv8n(image_files)"
   ]
  },
  {
   "cell_type": "code",
   "execution_count": 10,
   "id": "52f261e8",
   "metadata": {},
   "outputs": [],
   "source": [
    "for idx, result in enumerate(results):\n",
    "    boxes = result.boxes  # Boxes object for bounding box outputs\n",
    "    masks = result.masks  # Masks object for segmentation masks outputs\n",
    "    keypoints = result.keypoints  # Keypoints object for pose outputs\n",
    "    probs = result.probs  # Probs object for classification outputs\n",
    "    obb = result.obb  # Oriented boxes object for OBB outputs\n",
    "    result.show()  # display to screen\n",
    "    result.save(filename=f\"outputs/result_v8n_{idx}.jpg\")  # save to disk"
   ]
  },
  {
   "cell_type": "code",
   "execution_count": 11,
   "id": "c14ea1b0",
   "metadata": {},
   "outputs": [
    {
     "name": "stdout",
     "output_type": "stream",
     "text": [
      "\n",
      "0: 640x640 1 car, 1 kite, 1 cup, 1 apple, 185.7ms\n",
      "1: 640x640 1 car, 2 horses, 1 umbrella, 1 cup, 185.7ms\n",
      "2: 640x640 2 persons, 1 tv, 1 cell phone, 185.7ms\n",
      "3: 640x640 2 cups, 3 bowls, 1 dining table, 185.7ms\n",
      "4: 640x640 7 oranges, 2 dining tables, 185.7ms\n",
      "Speed: 5.7ms preprocess, 185.7ms inference, 1.9ms postprocess per image at shape (1, 3, 640, 640)\n"
     ]
    }
   ],
   "source": [
    "modelv12n = YOLO(\"yolo12n.pt\")\n",
    "results = modelv12n(image_files) "
   ]
  },
  {
   "cell_type": "code",
   "execution_count": 12,
   "id": "897a9fdb",
   "metadata": {},
   "outputs": [],
   "source": [
    "for idx, result in enumerate(results):\n",
    "    boxes = result.boxes  # Boxes object for bounding box outputs\n",
    "    masks = result.masks  # Masks object for segmentation masks outputs\n",
    "    keypoints = result.keypoints  # Keypoints object for pose outputs\n",
    "    probs = result.probs  # Probs object for classification outputs\n",
    "    obb = result.obb  # Oriented boxes object for OBB outputs\n",
    "    result.show()  # display to screen\n",
    "    result.save(filename=f\"outputs/result_v12n_{idx}.jpg\")  # save to disk"
   ]
  },
  {
   "cell_type": "code",
   "execution_count": null,
   "id": "dbd52daa-5009-402b-8c7d-8080c5fb4771",
   "metadata": {},
   "outputs": [],
   "source": []
  }
 ],
 "metadata": {
  "kernelspec": {
   "display_name": "Python 3 (ipykernel)",
   "language": "python",
   "name": "python3"
  },
  "language_info": {
   "codemirror_mode": {
    "name": "ipython",
    "version": 3
   },
   "file_extension": ".py",
   "mimetype": "text/x-python",
   "name": "python",
   "nbconvert_exporter": "python",
   "pygments_lexer": "ipython3",
   "version": "3.12.4"
  }
 },
 "nbformat": 4,
 "nbformat_minor": 5
}

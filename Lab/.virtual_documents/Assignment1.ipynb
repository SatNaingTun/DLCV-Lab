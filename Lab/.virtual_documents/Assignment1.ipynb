!python --version


import torch
print(torch.version.cuda)
print(torch.cuda.is_available())


!nvidia-smi


!amd-smi


if torch.cuda.is_available():
    print("GPU detected:", torch.cuda.get_device_name(0))
else:
    print("No CUDA-compatible GPU detected.")







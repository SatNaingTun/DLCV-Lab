{
 "cells": [
  {
   "cell_type": "markdown",
   "id": "20d7bc3f",
   "metadata": {},
   "source": [
    "### Task 1: Personal Introduction\n",
    "\n",
    "This task focuses on variable definition, basic data types (string, int), and basic syntax (print()).\n",
    "\n",
    "Create a variable called my_name and assign your name to it as a string.\n",
    "Create a variable called my_age and assign your age to it as an integer.\n",
    "Create a variable is_learning_python and set it to the boolean value True.\n",
    "Write a single print() statement that uses an f-string to introduce yourself.\n",
    "Example Output:\n",
    "\n",
    "Hello, my name is Alex and I am 20 years old. It's True that I am learning Python!"
   ]
  },
  {
   "cell_type": "code",
   "execution_count": 1,
   "id": "4d61146f",
   "metadata": {},
   "outputs": [
    {
     "name": "stdout",
     "output_type": "stream",
     "text": [
      "Hello, my name is Sat Naing Tun and I am 32 years old. It's True that I am learning Python!\n"
     ]
    }
   ],
   "source": [
    "# Task1\n",
    "my_name=\"Sat Naing Tun\"\n",
    "my_age=\"32\"\n",
    "is_learning_python = True\n",
    "print(f\"Hello, my name is {my_name} and I am {my_age} years old. It's {is_learning_python} that I am learning Python!\")\n",
    "\n"
   ]
  },
  {
   "cell_type": "markdown",
   "id": "4d9976b0-a85f-41d9-991d-26dcd62ee867",
   "metadata": {},
   "source": [
    "### Task 2: My Favorite Hobbies\n",
    "This task focuses on Lists, the list() constructor, and Set operations.\n",
    "\n",
    "Create a list named hobbies_list containing at least five of your hobbies. Make sure to include one hobby twice to create a duplicate.\n",
    "Use the set() constructor to create a new set called unique_hobbies from hobbies_list.\n",
    "Create another set called friend_hobbies with at least three hobbies, where one is the same as one of your unique hobbies.\n",
    "Find the hobbies you and your friend have in common using the intersection() method. Store the result in a variable called common_hobbies.\n",
    "Print your set of unique hobbies and the set of common hobbies.\n",
    "Example Output:\n",
    "\n",
    "My unique hobbies are: {'cooking', 'gaming', 'reading', 'hiking'}\n",
    "Our common hobbies are: {'reading'}"
   ]
  },
  {
   "cell_type": "code",
   "execution_count": 2,
   "id": "3609cc64-631f-4fde-8491-02677e7a23e1",
   "metadata": {},
   "outputs": [
    {
     "name": "stdout",
     "output_type": "stream",
     "text": [
      "My unique hobbies are: {'gaming', 'football', 'programming', 'reading'}\n",
      "Our common hobbies are: {'gaming', 'reading'}\n"
     ]
    }
   ],
   "source": [
    "# Task2 Answer\n",
    "hobbies_list = [\"football\", \"reading\", \"gaming\", \"programming\", \"reading\"]\n",
    "\n",
    "\n",
    "unique_hobbies = set(hobbies_list)\n",
    "\n",
    "\n",
    "friend_hobbies = {\"reading\", \"basketball\", \"travelling\",\"gaming\"}\n",
    "\n",
    "\n",
    "common_hobbies = unique_hobbies.intersection(friend_hobbies)\n",
    "\n",
    "\n",
    "print(f\"My unique hobbies are: {unique_hobbies}\")\n",
    "print(f\"Our common hobbies are: {common_hobbies}\")"
   ]
  },
  {
   "cell_type": "markdown",
   "id": "a4167ad2-1702-483f-be23-0ea7f70152e4",
   "metadata": {},
   "source": [
    "### Task 3: The Ultimate Movie Log\n",
    "This task features more complex List and Dictionary operations. 🎬\n",
    "\n",
    "##### Part A: Complex List Operations\n",
    "Create a list of strings called watched_movies with three movies you have already seen.\n",
    "Create a second list called watchlist with two movies you want to see.\n",
    "Create a new list called full_movie_library by concatenating watched_movies and watchlist using the + operator.\n",
    "Use the .pop() method to remove the first movie from your watchlist and store its title in a new variable called just_watched.\n",
    "Print a confirmation message, for example: \"I just finished watching [just_watched]!\"\n",
    "Use the .remove() method to remove one movie from full_movie_library by its exact title.\n",
    "Sort the full_movie_library alphabetically in place using the .sort() method and print the final, sorted library.\n",
    "Example Output for Part A:\n",
    "\n",
    "I just finished watching The Grand Budapest Hotel!\n",
    "My final movie library: ['Dune', 'Inception', 'Parasite', 'The Matrix']\n"
   ]
  },
  {
   "cell_type": "code",
   "execution_count": 3,
   "id": "06c809c1-60f1-4e9e-b7d6-702743afe7c4",
   "metadata": {},
   "outputs": [
    {
     "name": "stdout",
     "output_type": "stream",
     "text": [
      "I just finished watching Broker!\n",
      "My final movie library: ['Beyond Rangoon', \"Seven O'clock Breakfast Meeting for the Brokenhearted\", 'The Boys in The Striped Pajamas', 'Tomorrow Never Dies']\n"
     ]
    }
   ],
   "source": [
    "# Task3 Part A Answer\n",
    "watched_movies = [ \"Beyond Rangoon\", \"The Boys in The Striped Pajamas\",\"Tomorrow Never Dies\"]\n",
    "watchlist = [\"Broker\", \"Seven O'clock Breakfast Meeting for the Brokenhearted\"]\n",
    "full_movie_library = watched_movies + watchlist\n",
    "\n",
    "just_watched = watchlist.pop(0)\n",
    "print(f\"I just finished watching {just_watched}!\")\n",
    "\n",
    "full_movie_library.remove(\"Broker\")\n",
    "full_movie_library.sort()\n",
    "\n",
    "print(f\"My final movie library: {full_movie_library}\")\n"
   ]
  },
  {
   "cell_type": "markdown",
   "id": "7e13ba24-c535-4f56-ae79-1e9066cd9d06",
   "metadata": {},
   "source": [
    "\n",
    "#### Part B: Complex Dictionary Operations\n",
    "Create a dictionary called movie_ratings for the movies in your original watched_movies list. The keys should be the movie titles (strings) and the values should be your rating from 1 to 10 (integers).\n",
    "Update the value for one of the movies in movie_ratings to a new number.\n",
    "Add the movie you just watched (just_watched from Part A) to the movie_ratings dictionary with its rating.\n",
    "Use the .get() method to look for a movie title that does not exist in movie_ratings. Provide a default value of \"Not Rated\". Store the result in queried_rating and print it.\n",
    "Use the del keyword to delete one key-value pair from movie_ratings.\n",
    "Print the final movie_ratings dictionary.\n",
    "Example Output for Part B:\n",
    "\n",
    "Rating for 'Avatar': Not Rated\n",
    "Final Movie Ratings: {'Inception': 10, 'The Matrix': 9, 'The Grand Budapest Hotel': 9}"
   ]
  },
  {
   "cell_type": "code",
   "execution_count": 4,
   "id": "fcee2569-f6ff-4d7d-acf1-6befe5777945",
   "metadata": {},
   "outputs": [
    {
     "name": "stdout",
     "output_type": "stream",
     "text": [
      "Rating for 'Avatar': Not Rated\n",
      "Final Movie Ratings: {'Beyond Rangoon': 5, 'The Boys in The Striped Pajamas': 10, 'Broker': 9}\n"
     ]
    }
   ],
   "source": [
    "# Task3 B Answer\n",
    "import random\n",
    "movie_ratings = {movie: random.randint(5, 10) for movie in watched_movies}\n",
    "\n",
    "movie_ratings[\"The Boys in The Striped Pajamas\"]=10\n",
    "movie_ratings[just_watched] = 9\n",
    "\n",
    "queried_rating = movie_ratings.get(\"Avatar\", \"Not Rated\")\n",
    "print(f\"Rating for 'Avatar': {queried_rating}\")\n",
    "\n",
    "del movie_ratings[\"Tomorrow Never Dies\"]\n",
    "print(f\"Final Movie Ratings: {movie_ratings}\")"
   ]
  },
  {
   "cell_type": "markdown",
   "id": "759dbeca-7aa5-44d2-a9d9-28acc1d0c9e1",
   "metadata": {},
   "source": [
    "### Task 4: Final Summary\n",
    "This final task is a quick review of printing different data types.\n",
    "\n",
    "Print the number of movies in your full_movie_library using the len() function.\n",
    "Get a list of all the titles from your final movie_ratings dictionary using the .keys() method. (Hint: You may need to wrap it with the list() constructor). Print this list.\n",
    "Print the data type of each of the following variables using the type() function:\n",
    "my_age\n",
    "full_movie_library\n",
    "queried_rating\n",
    "movie_ratings\n",
    "Example Output:\n",
    "\n",
    "My final movie library has 4 movies.\n",
    "Movie titles I have rated: ['Inception', 'The Matrix', 'The Grand Budapest Hotel']\n",
    "Type of my_age: <class 'int'>\n",
    "Type of full_movie_library: <class 'list'>\n",
    "Type of queried_rating: <class 'str'>\n",
    "Type of movie_ratings: <class 'dict'>"
   ]
  },
  {
   "cell_type": "code",
   "execution_count": 5,
   "id": "a75d57b8-4c81-45d8-8071-5af740a3e4b8",
   "metadata": {},
   "outputs": [
    {
     "name": "stdout",
     "output_type": "stream",
     "text": [
      "My final movie library has 4 movies.\n"
     ]
    }
   ],
   "source": [
    "# Task 4: 1.\n",
    "print(f\"My final movie library has {len(full_movie_library)} movies.\")\n"
   ]
  },
  {
   "cell_type": "code",
   "execution_count": 6,
   "id": "7022fb4e-a9a3-4042-b75e-3822e8434d20",
   "metadata": {},
   "outputs": [
    {
     "name": "stdout",
     "output_type": "stream",
     "text": [
      "Movie titles I have rated: ['Beyond Rangoon', 'The Boys in The Striped Pajamas', 'Broker']\n"
     ]
    }
   ],
   "source": [
    "# Task 4: 2.\n",
    "rated_movies = list(movie_ratings.keys())\n",
    "print(f\"Movie titles I have rated: {rated_movies}\")"
   ]
  },
  {
   "cell_type": "code",
   "execution_count": 7,
   "id": "fd801945-f0b9-4915-886f-9657256a9b90",
   "metadata": {},
   "outputs": [
    {
     "name": "stdout",
     "output_type": "stream",
     "text": [
      "Type of my_age: <class 'str'>\n",
      "Type of full_movie_library: <class 'list'>\n",
      "Type of queried_rating: <class 'str'>\n",
      "Type of movie_ratings: <class 'dict'>\n"
     ]
    }
   ],
   "source": [
    "# Task 4: 3.\n",
    "print(f\"Type of my_age: {type(my_age)}\")\n",
    "print(f\"Type of full_movie_library: {type(full_movie_library)}\")\n",
    "print(f\"Type of queried_rating: {type(queried_rating)}\")\n",
    "print(f\"Type of movie_ratings: {type(movie_ratings)}\")"
   ]
  },
  {
   "cell_type": "code",
   "execution_count": null,
   "id": "93483f50-d9ce-4dab-a9d7-f39a86fe78a9",
   "metadata": {},
   "outputs": [],
   "source": []
  }
 ],
 "metadata": {
  "kernelspec": {
   "display_name": "Python 3 (ipykernel)",
   "language": "python",
   "name": "python3"
  },
  "language_info": {
   "codemirror_mode": {
    "name": "ipython",
    "version": 3
   },
   "file_extension": ".py",
   "mimetype": "text/x-python",
   "name": "python",
   "nbconvert_exporter": "python",
   "pygments_lexer": "ipython3",
   "version": "3.12.4"
  }
 },
 "nbformat": 4,
 "nbformat_minor": 5
}

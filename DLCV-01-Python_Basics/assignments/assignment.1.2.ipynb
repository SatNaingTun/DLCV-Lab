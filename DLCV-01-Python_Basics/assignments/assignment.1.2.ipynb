{
 "cells": [
  {
   "cell_type": "code",
   "execution_count": null,
   "id": "c2db8369-bd43-45cf-9a5f-b1f5cafd43d6",
   "metadata": {},
   "outputs": [],
   "source": []
  },
  {
   "cell_type": "markdown",
   "id": "eae8ed96-4411-41f8-a299-794c64e31706",
   "metadata": {},
   "source": [
    "# Assignment 1.2\n",
    "\n",
    "## Python Function and Class\n",
    "Please use simple Python syntax for this assignment. Do not use any libraries for now. This is only accessing your basic Python understanding."
   ]
  },
  {
   "cell_type": "markdown",
   "id": "7210aba3-c869-4f9b-983a-6bd6a19ae954",
   "metadata": {},
   "source": [
    "#### Exercise 1"
   ]
  },
  {
   "cell_type": "markdown",
   "id": "88333609-93cb-404c-9067-39062e11dcb7",
   "metadata": {},
   "source": [
    "A Mechatronic student enrolled five courses named `DLCV, Statistics, AINeuroFuzzy, ControlTheory and StochasticModels`. Assume that during the final exam, he has only 12 hours of study left. Furthermore, he must spend at least 2 hours of studying for each course in order to pass the exam. So, he sorts the courses alphabetically and assigns each hour to the course one by one until the total 12 hours is used up.  \n",
    "\n",
    "Implement the followings:\n",
    "- Write a class named `HourAssignment` that receives a parameter `totalhours` when initialized. Inside the class, there is a function named `assign` that receives another parameter called `coursename`.\n",
    "- When the `coursename` is passed into the function, an hour is assigned to that `course`. You have to loop the list infinitely to pass the `coursename` into the function. The hour assignment will proceed until all the `totalhours` is used up.\n",
    "- When the total hours is used up, the function returns a statement \"All the hours are assigned...\".\n",
    "- Write another function inside the same class named `show` which simply prints out all the assigned hours from each course you passed into the `assign` function. Call that function to print `COURSENAME is assigned x hours`.\n",
    "- Play around with different hours other than 12 hours. What is the result?\n",
    "\n",
    "hint: please use the dictionary to assign the hours."
   ]
  },
  {
   "cell_type": "code",
   "execution_count": null,
   "id": "c3b7cdf6-2f47-4718-938b-dd975f6038ac",
   "metadata": {},
   "outputs": [],
   "source": [
    "# YOUR CODE HERE\n",
    "raise NotImplementedError()"
   ]
  },
  {
   "cell_type": "markdown",
   "id": "c9022003-9b86-4f8e-a33e-9f82d22ae5c6",
   "metadata": {},
   "source": [
    "**Expected Results:**\n",
    "\n",
    "All the hours are assigned...  \n",
    "AINeuroFuzzy course is assigned 3 hours.  \n",
    "ControlTheory course is assigned 3 hours.  \n",
    "DLCV course is assigned 2 hours.  \n",
    "Statistics course is assigned 2 hours.  \n",
    "StochasticModels course is assigned 2 hours."
   ]
  },
  {
   "cell_type": "markdown",
   "id": "515e5b55-dc8d-4044-91ac-88487153ed43",
   "metadata": {},
   "source": [
    "#### Exercise 2"
   ]
  },
  {
   "cell_type": "markdown",
   "id": "ec9733ee-64e5-4591-bc46-37f04ce4fc05",
   "metadata": {},
   "source": [
    "Below `paths` contains a list of paths containing images (do not remove any comma).\n",
    "- Write a code to extract only the image names excluding `.png` extension without blanks. Use list comprehension.\n",
    "- Print out the names.\n",
    "- Replace the `/home/user/dlcv/images/` with `/home/yourname/DLCV/imgs/` to change the directory and return the list. Hint: use replace() function.\n",
    "- Print out the modified list.\n",
    "- Write the modified list into a text file called images.txt (submit the code as well as the .txt file)"
   ]
  },
  {
   "cell_type": "code",
   "execution_count": null,
   "id": "fc056155-a10d-4cd6-b4e8-88029be1cb3a",
   "metadata": {},
   "outputs": [],
   "source": [
    "paths = ['/home/user/dlcv/images/img01.png', \n",
    "'/home/user/dlcv/images/img02.png',\n",
    "'/home/user/dlcv/images/img03.png',\n",
    "'/home/user/dlcv/images/img04.png',\n",
    "'/home/user/dlcv/images/img05.png',\n",
    "'/home/user/dlcv/images/img06.png',\n",
    "'/home/user/dlcv/images/img07.png',\n",
    "'/home/user/dlcv/images/img08.png',\n",
    "'/home/user/dlcv/images/img09.png',\n",
    "'/home/user/dlcv/images/img10.png',\n",
    "'']"
   ]
  },
  {
   "cell_type": "code",
   "execution_count": null,
   "id": "1114be2a-c75b-45ae-aa27-ea9ae46d8fb5",
   "metadata": {},
   "outputs": [],
   "source": [
    "# YOUR CODE HERE\n",
    "raise NotImplementedError()"
   ]
  },
  {
   "cell_type": "markdown",
   "id": "3e8d23d1-b4d1-4dc1-bd7e-3e40094722d5",
   "metadata": {},
   "source": [
    "#### Exercise 3"
   ]
  },
  {
   "cell_type": "markdown",
   "id": "9bbfa1b5-6acb-47a9-a257-2c362c0fe8f9",
   "metadata": {},
   "source": [
    "Remove duplicates below using your python function `removeDuplicate`. Do not use any library.\n",
    "- remove all duplicated items and return\n",
    "- remove duplicated but leave one from each item and return"
   ]
  },
  {
   "cell_type": "code",
   "execution_count": null,
   "id": "feef5070-de39-4618-9a04-35f11b02453a",
   "metadata": {},
   "outputs": [],
   "source": [
    "array_1 = [1,2,0,3,3,4,5,2,5,6,7,4,5,7,7,8,3,9,0,0]\n",
    "array_2 = [1,11,3,4,5,6,6,11,11,15,14,15]"
   ]
  },
  {
   "cell_type": "code",
   "execution_count": null,
   "id": "72dd1b7e-2156-44bd-8e10-519feef9faec",
   "metadata": {},
   "outputs": [],
   "source": [
    "# YOUR CODE HERE\n",
    "raise NotImplementedError()"
   ]
  }
 ],
 "metadata": {
  "kernelspec": {
   "display_name": "Python 3 (ipykernel)",
   "language": "python",
   "name": "python3"
  },
  "language_info": {
   "codemirror_mode": {
    "name": "ipython",
    "version": 3
   },
   "file_extension": ".py",
   "mimetype": "text/x-python",
   "name": "python",
   "nbconvert_exporter": "python",
   "pygments_lexer": "ipython3",
   "version": "3.10.12"
  }
 },
 "nbformat": 4,
 "nbformat_minor": 5
}
